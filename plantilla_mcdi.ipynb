{
 "cells": [
  {
   "cell_type": "raw",
   "id": "74e567e7-fa3a-4ad0-ab1e-fbdb091fbe63",
   "metadata": {},
   "source": [
    "---\n",
    "title: Título del Manuscrito en Cuestión\n",
    "author: Nombre del Alumno(a) sustentante\n",
    "date: 2025/07/15\n",
    "date-format: MMMM, YYYY\n",
    "execute:\n",
    "  echo: true\n",
    "  warning: false\n",
    "  message: false\n",
    "format:\n",
    "  pdf:\n",
    "    df-print: default\n",
    "    tbl-colwidths: auto\n",
    "    code-overflow: wrap\n",
    "    documentclass: scrreprt\n",
    "    toc: true\n",
    "    toc-title: Indice General\n",
    "    lof: true\n",
    "    lot: true\n",
    "    tbl-cap-location: bottom\n",
    "    number-sections: false\n",
    "    colorlinks: true\n",
    "    papersize: letter\n",
    "    lang: es\n",
    "    keep-tex: true\n",
    "    cite-method: citeproc\n",
    "    bibliography: refs.bib\n",
    "    csl: apa.csl\n",
    "    fontsize: 12pt\n",
    "    geometry:\n",
    "      - top=30mm\n",
    "      - left=20mm\n",
    "      - right=20mm\n",
    "      - heightrounded\n",
    "header-includes: |\n",
    "  \\setcounter{secnumdepth}{0} % Oculta números de capítulos y secciones\n",
    "  \\usepackage{graphicx}\n",
    "  \\usepackage{titling}\n",
    "  \\usepackage{etoolbox}\n",
    "  \\usepackage{chngcntr}\n",
    "\n",
    "  \\usepackage{etoolbox}\n",
    "  \\makeatletter\n",
    "  \\renewcommand{\\@makechapterhead}[1]{%\n",
    "  {\\parindent \\z@ \\raggedright \\normalfont\n",
    "    \\interlinepenalty\\@M\n",
    "    \\Huge \\bfseries  #1\\par\\nobreak\n",
    "    \\vskip 20\\p@\n",
    "  }}\n",
    "  \\renewcommand{\\@makeschapterhead}[1]{%\n",
    "  {\\parindent \\z@ \\raggedright\n",
    "    \\normalfont\n",
    "    \\interlinepenalty\\@M\n",
    "    \\Huge \\bfseries  #1\\par\\nobreak\n",
    "    \\vskip 20\\p@\n",
    "  }}\n",
    "  \\renewcommand{\\thechapter}{}\n",
    "  \\makeatother\n",
    "\n",
    "  \n",
    "  % Quitar numeración de capítulo en figuras y tablas\n",
    "  \\counterwithout{figure}{chapter}\n",
    "  \\counterwithout{table}{chapter}\n",
    "\n",
    "  % Evitar que footnotes se reseteen por sección\n",
    "  \\pretocmd{\\chapter}{\\counterwithout{footnote}{chapter}}{}{}\n",
    "  \\pretocmd{\\section}{\\counterwithout{footnote}{section}}{}{}\n",
    "  \\pretocmd{\\subsection}{\\counterwithout{footnote}{subsection}}{}{}\n",
    "  \\counterwithout{footnote}{section}\n",
    "\n",
    "  % Redefinir el título para portada\n",
    "  \\renewcommand{\\maketitle}{\n",
    "    \\begin{titlepage}\n",
    "      \\begin{center}\n",
    "        \\begin{minipage}{0.4\\linewidth}\n",
    "          \\centering\n",
    "          \\includegraphics[width=7cm]{mcdi.png}\n",
    "        \\end{minipage}\n",
    "        \\hfill\n",
    "        \\begin{minipage}{0.4\\linewidth}\n",
    "          \\centering\n",
    "          \\includegraphics[width=7cm]{posgrados.png}\n",
    "        \\end{minipage}\n",
    "\n",
    "        \\vspace{2cm}\n",
    "        {\\huge INFOTEC Centro de Investigación e Innovación en Tecnologías de la Información y Comunicación \\par}\n",
    "\n",
    "        \\vspace{1cm}\n",
    "        {\\huge Maestría en Ciencia de Datos e Información \\par}\n",
    "        \\vspace{1cm}\n",
    "\n",
    "        {\\huge \\thetitle \\par}\n",
    "        \\vspace{1cm}\n",
    "\n",
    "        {\\Large \\theauthor \\par}\n",
    "        \\vspace{1cm}\n",
    "\n",
    "        {\\large Director(a): Dr(a). Nombre del/la director(a) \\par}\n",
    "        {\\large Co-director(a): Dr(a). Nombre del/la director(a) \\par}\n",
    "        \\vspace{1cm}\n",
    "\n",
    "        {\\large Modalidad de titulación: Proyecto Técnico \\par}\n",
    "        {\\large Aguascalientes/Ciudad de México, México \\par}\n",
    "        \\vspace{0.5cm}\n",
    "        {\\large \\thedate \\par}\n",
    "        \\vfill\n",
    "      \\end{center}\n",
    "    \\end{titlepage}\n",
    "  }\n",
    "---"
   ]
  },
  {
   "cell_type": "markdown",
   "id": "5acfd4b5-091f-4929-a1a2-acc2eeecab5f",
   "metadata": {},
   "source": [
    "# Glosario"
   ]
  },
  {
   "cell_type": "markdown",
   "id": "ab04b3b8-b1ee-4243-9689-f65f87770ded",
   "metadata": {},
   "source": [
    "BERT (Bidirectional Encoder Representations from Transformers): Modelo de lenguaje desarrollado por Google que utiliza la arquitectura Transformer para procesar texto de manera bidireccional. Es preentrenado en tareas de completado de máscaras y predicción de próxima oración, y sirve como base para múltiples aplicaciones de PLN mediante fine-tuning.\n",
    "\n",
    "BETO: Variante del modelo BERT preentrenada específicamente en corpus en español. Desarrollado para mejorar el rendimiento en tareas de PLN en este idioma, como clasificación, NER y análisis de sentimientos.\n",
    "\n",
    "BiLSTM (Bidirectional Long Short-Term Memory): Variante de las redes LSTM que procesa secuencias de datos en ambas direcciones (hacia adelante y hacia atrás), lo que permite capturar mejor el contexto completo de una oración o texto.\n",
    "\n",
    "CNN (Convolutional Neural Network / Red Neuronal Convolucional): Tipo de red neuronal profunda especializada en el procesamiento de datos con estructura de tipo rejilla, como imágenes. Aunque fue diseñada inicialmente para visión por computadora, también se aplica en tareas de procesamiento de lenguaje natural.\n",
    "\n",
    "DataHub: Plataforma abierta para la publicación, descubrimiento y uso de conjuntos de datos, frecuentemente utilizada en proyectos de análisis y visualización de datos.\n",
    "\n",
    "DBMS (Database Management System / Sistema Gestor de Bases de Datos): Software que permite la creación, administración y consulta de bases de datos, facilitando el almacenamiento y recuperación eficiente de información estructurada.\n",
    "\n",
    "DistilBERT: Versión ligera de BERT que reduce el tamaño del modelo casi a la mitad sin perder demasiada precisión. Es más eficiente computacionalmente, ideal para aplicaciones donde se requiere velocidad o menos consumo de recursos.\n",
    "\n",
    "GPT (Generative Pre-trained Transformer): Familia de modelos de lenguaje desarrollados por OpenAI que utilizan entrenamiento autoregresivo. A diferencia de BERT, están optimizados para generación de texto, predicción de próxima palabra y tareas conversacionales mediante in-context learning.\n",
    "\n",
    "Hugging Face: Comunidad y repositorio de modelos de inteligencia artificial, reconocida por su biblioteca Transformers, ampliamente utilizada en tareas de procesamiento de lenguaje natural como clasificación, traducción o generación de texto.\n",
    "\n",
    "Kaggle: Plataforma en línea propiedad de Google, especializada en ciencia de datos y aprendizaje automático. Permite acceder a conjuntos de datos, participar en competencias, compartir notebooks y colaborar en proyectos de análisis de datos.\n",
    "\n",
    "LSTM (Long Short-Term Memory): Tipo de red neuronal recurrente capaz de aprender dependencias a largo plazo en secuencias de datos, ampliamente utilizada en tareas de procesamiento de lenguaje natural.\n",
    "\n",
    "NER (Named Entity Recognition / Reconocimiento de Entidades Nombradas): Técnica del procesamiento de lenguaje natural que identifica y clasifica automáticamente entidades específicas dentro de un texto, como nombres de productos, empresas, personas u organizaciones.\n",
    "\n",
    "OpenML: Plataforma colaborativa para compartir conjuntos de datos, flujos de trabajo y resultados de modelos de aprendizaje automático, diseñada para fomentar la transparencia y la reproducibilidad en la investigación.\n",
    "\n",
    "Papers with Code: Sitio web que vincula artículos científicos con su código fuente, métricas y resultados, facilitando la comparación de modelos y la reproducción de investigaciones en inteligencia artificial y aprendizaje automático.\n",
    "\n",
    "PDF (Portable Document Format): Formato de archivo desarrollado por Adobe que permite representar documentos de forma independiente del software, hardware o sistema operativo utilizado para crearlos.\n",
    "\n",
    "PLN (Procesamiento de Lenguaje Natural): Rama de la inteligencia artificial enfocada en la interacción entre computadoras y el lenguaje humano, mediante técnicas que permiten analizar, interpretar y generar texto de manera automatizada.\n",
    "\n",
    "RoBERTa (Robustly Optimized BERT Approach): Versión optimizada de BERT entrenada con más datos, sin la tarea de predicción de próxima oración, y con ajustes en la estrategia de entrenamiento. Mejora el rendimiento en muchas tareas estándar de PLN.\n",
    "\n",
    "spaCy: Biblioteca de procesamiento de lenguaje natural (PLN) de código abierto escrita en Python, diseñada para ser rápida, eficiente y fácil de usar, especialmente en aplicaciones de producción."
   ]
  },
  {
   "cell_type": "markdown",
   "id": "deaa1682-8487-4c01-9db1-bfc150ae1eee",
   "metadata": {},
   "source": [
    "# Agradecimientos"
   ]
  },
  {
   "cell_type": "markdown",
   "id": "f29ea034-1fed-4d05-8fb0-aba672fe51c6",
   "metadata": {},
   "source": [
    "Sección de contenido libre. Se deja a discreción del autor del contenido."
   ]
  },
  {
   "cell_type": "markdown",
   "id": "934193cd-f636-4774-8ab6-6ec36cadf979",
   "metadata": {},
   "source": [
    "# Resumen"
   ]
  },
  {
   "cell_type": "markdown",
   "id": "2ce6e308-9a5d-4e9c-8c69-11e0794835bf",
   "metadata": {},
   "source": [
    "Este documento representa una guía para las y los estudiantes de la MCDI cuya modalidad de titulación sea Proyecto Técnico. En este sentido, a continuación se mencionarán los lineamientos indispensables para la aprobación de dicho trabajo. Es importante destacar que los requerimientos podrían variar dependiendo del contenido, como por ejemplo una sección de apéndices; por lo que este documento no limita los requerimientos adicionales que deban añadirse. \n",
    "Para fines prácticos, el contenido de este documento deberá estar entre 15,000 y 30,000 palabras sin contar las referencias. Se sugiere que el manuscrito en cuestión tenga los capítulos: Objetivos, Introducción, Revisión de literatura, Propuesta, Análisis de resultados, Conclusiones, y Referencias. Los títulos en cuestión deben ajustarse a conveniencia. En todo momento se pide seguir los lineamientos académicos y del departamento de Biblioteca. Para resolver cualquier duda sobre esta guía, póngase en contacto con la coordinación de la maestría o con Biblioteca al correo **biblioteca@infotec.mx**."
   ]
  },
  {
   "cell_type": "markdown",
   "id": "253928ac-99e4-4489-b0a6-8f18af7df278",
   "metadata": {},
   "source": [
    "# Objetivos"
   ]
  },
  {
   "cell_type": "markdown",
   "id": "a784cfef-29b0-48da-adca-edd862250071",
   "metadata": {},
   "source": [
    "## Objetivo General"
   ]
  },
  {
   "cell_type": "markdown",
   "id": "71fd2c74-d18c-4a98-90c3-e7589820f693",
   "metadata": {},
   "source": [
    "El objetivo general del proyecto debe sintetizarse en una frase que comunique de forma\n",
    "clara lo que se va a hacer. Otra forma, es basarse en el título del trabajo para poder definirlo.\n",
    "Por ejemplo:\n",
    "Predecir la probabilidad de fallo en paneles solares fotovoltaicos mediante el análisis\n",
    "digital de imágenes."
   ]
  },
  {
   "cell_type": "markdown",
   "id": "887b9451-f082-4a57-a07d-ef308b12e6dc",
   "metadata": {},
   "source": [
    "Posterior a un párrafo de contexto, se presenta un listado con los objetivos específicos.\n",
    "Por ejemplo:\n",
    "\n",
    "- Formar la base de datos de imágenes.\n",
    "\n",
    "- Proponer una arquitectura de red neuronal.\n",
    "\n",
    "- Evaluar el desempeño del modelo con respecto a otros trabajos.\n",
    "\n",
    "RecuerdRecuerda que la suma de los objetivos particulares debe conducir al cumplimiento del objetivo general. Todos los objetivos deben redactarse utilizando un verbo en infinitivo.[^verbos].\n",
    "\n",
    "[^verbos]: La sección Pie de página explica como realizar los pies de página.\n"
   ]
  },
  {
   "cell_type": "markdown",
   "id": "d0ba7daf-5005-43d9-af03-9ea29482867a",
   "metadata": {},
   "source": [
    "# Capítulo 1 {unnumbered=true}\n",
    "## Introducción\n",
    "\n",
    "Este documento tiene como objetivo servir de guía práctica para quienes deseen utilizar Quarto [^quarto] en conjunto con los notebooks de Jupyter como una herramienta eficaz para la elaboración de documentos técnicos y científicos de alta calidad. A través de esta combinación, es posible integrar de forma armoniosa texto narrativo, código ejecutable, visualizaciones y resultados computacionales en un solo archivo reproducible y profesional.\n",
    "\n",
    "\n",
    "\n",
    "Ya sea que se trate de un proyecto académico, una tesis, un artículo científico o cualquier otro tipo de informe técnico, el uso conjunto de Jupyter y Quarto permite a los autores mantener una narrativa clara, documentar su análisis de manera transparente y facilitar la colaboración y la reproducibilidad de su trabajo. Este enfoque también promueve buenas prácticas en ciencia de datos y programación científica, al tiempo que ofrece herramientas modernas para la presentación de resultados.\n",
    "\n",
    "A lo largo del documento se presentarán los conceptos básicos, ejemplos prácticos y recomendaciones para comenzar a trabajar con esta poderosa combinación de tecnologías.\n",
    "\n",
    "[^quarto]: https://quarto.org/docs/guide/"
   ]
  },
  {
   "cell_type": "markdown",
   "id": "736b8712-2f29-44cc-8a2a-4339aa73e64f",
   "metadata": {},
   "source": [
    "## Jerarquías de titulos"
   ]
  },
  {
   "cell_type": "markdown",
   "id": "42dd62d6-51d0-407f-bd8d-366348f84725",
   "metadata": {},
   "source": [
    "En los notebooks de Jupyter, los títulos y subtítulos se definen utilizando el símbolo de almohadilla (#), también conocido como gato o numeral. Al comenzar una celda de tipo Markdown con uno o más de estos símbolos, se establece la jerarquía del encabezado, de manera similar a los títulos en un documento estructurado.\n",
    "\n",
    "La cantidad de almohadillas determina el nivel del encabezado, siguiendo la siguiente convención:\n",
    "\n",
    "    # Título de nivel 1 – Encabezado principal\n",
    "\n",
    "    ## Título de nivel 2 – Subtítulo\n",
    "\n",
    "    ### Título de nivel 3 – Subtítulo de segundo orden\n",
    "\n",
    "    #### Título de nivel 4 – Subtítulo de tercer orden\n",
    "\n",
    "Y así sucesivamente, hasta un máximo de seis niveles (######).\n",
    "\n",
    "Este sistema permite organizar el contenido de manera clara y jerárquica, facilitando la navegación, la lectura y, en el caso de Quarto, la generación automática de tablas de contenido.\n",
    "\n"
   ]
  },
  {
   "cell_type": "markdown",
   "id": "8960c266-4f1d-4ad1-a8ee-1dcd0a453790",
   "metadata": {},
   "source": [
    "## Imagenes"
   ]
  },
  {
   "attachments": {},
   "cell_type": "markdown",
   "id": "9a64ab42-5672-4616-ab98-b8b7493660ac",
   "metadata": {},
   "source": [
    "El proceso de insertar imágenes en un archivo Jupyter Notebook o Quarto (.qmd) es sencillo. Se debe utilizar el signo de admiración !, seguido de corchetes [], donde se escribe el texto alternativo o identificador de la imagen, y finalmente paréntesis (), donde se indica la ruta o dirección del archivo de imagen.\n",
    "\n",
    "Por ejemplo:\n",
    "\n",
    "`![Texto alternativo](ruta/de/imagen.png)`\n",
    "\n",
    "En este caso la imagen esta en la misma dirección que el archivo Jupyter Notebook o Quarto (.qmd).\n",
    "\n",
    "![Imagen de AI](ai_image.jpg){#fig-ai fig-align=\"center\"}\n",
    "\n",
    "Esto resulta especialmente útil en documentos científicos o técnicos, donde las imágenes deben estar debidamente etiquetadas y referenciadas."
   ]
  },
  {
   "cell_type": "markdown",
   "id": "1e4d4e87-af5a-46fb-8b71-2a82924395c1",
   "metadata": {},
   "source": [
    "# Capítulo 2 \n",
    "## Estado del arte \n",
    "\n",
    "Retomando el caso de estudio hipotético mencionado en los objetivos, en este capítulo se debería hacer una recopilación de los trabajos recientes más relevantes del campo. En general, nuestro estado del arte debe destacar la necesidad que existe de un trabajo como el que vamos a desarrollar.\n",
    "\n",
    "De modo que si nuestro objetivo es predecir la probabilidad de fallo que pueden presentar los paneles solares fotovoltaicos, el estado del arte debe recopilar trabajos que aborden el tema a partir de las características conjunto de datos empleados; las técnicas de tratamiento a las que se deben someter las imágenes; los modelos que logran hacer una predicción más precisa; y eventualmente los trabajos más similares al presente caso de estudio.\n",
    "\n"
   ]
  },
  {
   "cell_type": "markdown",
   "id": "b6390bd1-b79f-4220-a6be-f8514444c885",
   "metadata": {},
   "source": [
    "## Pie de página"
   ]
  },
  {
   "cell_type": "markdown",
   "id": "4ad499f8-bebf-4f8c-adca-a51573c48095",
   "metadata": {},
   "source": [
    "Para insertar una nota al pie en Quarto, se utiliza la siguiente sintaxis:\n",
    "escribe el contenido entre corchetes cuadrados ([]), precedido por un símbolo de potencia (^) y un identificador único. Por ejemplo:\n",
    "\n",
    "... este es un ejemplo[^nota1]. Se recomienda elegir nombres únicos para cada pie de página. Usar una numeración podría ser más complicado al existir el riesgo de repetir un número.\n",
    "\n",
    "[^nota1]: Se pueden usar números, palabras o ambos.\n"
   ]
  },
  {
   "cell_type": "markdown",
   "id": "be316438-025c-43f1-a12c-ac54e2719d97",
   "metadata": {},
   "source": [
    "## Referencias bibliográficas."
   ]
  },
  {
   "attachments": {},
   "cell_type": "markdown",
   "id": "9dcf2421-c607-4945-a4b0-489ef9f468b9",
   "metadata": {},
   "source": [
    "La forma correcta de realizar una cita en Quarto es escribiendo una arroba (`@`) seguida del identificador asignado a la referencia en el archivo `.bib`.\n",
    "\n",
    "En este caso, el identificador de la fuente es `vaswani2017`.\n",
    "\n",
    "![Ejemplo de referencia](cita_apa.png){#fig-cita fig-align=\"center\" width=60%}\n",
    "\n",
    "Por ejemplo:\n",
    "\n",
    "La cita se escribe directamente como ``@vaswani2017`` y se genera una cita integrada en el texto: @vaswani2017.\n",
    "\n",
    "**Las referencias utilizadas a lo largo del documento se agregan automáticamente en el apartado de Referencias, en orden alfabético.**"
   ]
  },
  {
   "cell_type": "markdown",
   "id": "c993366e-bba0-45e4-b48b-d26811cd13fe",
   "metadata": {},
   "source": [
    "## Ejemplo de tablas"
   ]
  },
  {
   "cell_type": "markdown",
   "id": "cd4d4780-5fd3-467a-bca9-1645d5166abd",
   "metadata": {},
   "source": [
    "En Quarto, las tablas pueden definirse directamente en Markdown utilizando una sintaxis basada en tuberías (|) y guiones (-). Esta es una forma sencilla y legible de presentar datos tabulares dentro de un notebook o documento.\n",
    "\n",
    "Por ejemplo, la siguiente tabla muestra una secuencia de tokens junto con sus respectivas etiquetas gramaticales:\n",
    "\n",
    "| **Token**     | **Etiqueta** |\n",
    "|---------------|--------------|\n",
    "| El            | ART          |  \n",
    "| perro         | SUS          |\n",
    "| corre         | V            |\n",
    "\n",
    ": Ejemplo de tabla.\n",
    "\n",
    "Las tablas más comunes en Quarto se definen usando barras verticales (|) y guiones (-), con opción de alineación por columna mediante dos puntos (:):\n",
    "\n",
    "| Izquierda | Derecha | Centro  |\n",
    "|:----------|--------:|:-------:|\n",
    "| A         |       B |    C    |\n",
    "\n",
    ": Alineación de tablas.\n",
    "\n",
    "También es posible agregar títulos y clases de estilo:\n",
    "\n",
    "| Fruta  | Precio |\n",
    "|--------|--------|\n",
    "| Manzana | 2.05  |\n",
    "| Pera    | 1.37  |\n",
    "\n",
    ": Precios de frutas {.striped .hover}\n",
    "\n",
    "Clases Bootstrap como .striped, .hover, .bordered, etc., se pueden aplicar para cambiar el estilo visual de la tabla.\n",
    "\n"
   ]
  },
  {
   "cell_type": "markdown",
   "id": "4c3bdad0-c6d5-41c8-a2c9-56ac69fce195",
   "metadata": {},
   "source": [
    "## Ajuste de Ancho de Columnas\n",
    "\n",
    "Puedes modificar el ancho relativo de las columnas:"
   ]
  },
  {
   "cell_type": "markdown",
   "id": "404ef966-bdd4-4ad8-8d48-0e3625abc852",
   "metadata": {},
   "source": [
    "| Fruta  | Precio |\n",
    "|--------|--------|\n",
    "| Manzana | 2.05  |\n",
    "| Pera    | 1.37  |\n",
    "\n",
    ": {tbl-colwidths=\"[75,25]\"}\n",
    "\n",
    "También puedes establecer anchos a nivel documento con tbl-colwidths en los metadatos YAML."
   ]
  },
  {
   "cell_type": "markdown",
   "id": "f02b9d45-f7b2-48e9-a820-0a1c023439df",
   "metadata": {},
   "source": [
    "# Capítulo 3 \n",
    "## Propuesta\n",
    "\n",
    "Una vez mencionadas las potenciales áreas de contribución al campo, se destacan los diferenciadores de la presente investigación con respecto a los mencionados en la sección. Es importante hacer hincapié que este capítulo tiene que tener tanto detalle como sea posible tanto en el método como en los datos empleados..."
   ]
  },
  {
   "cell_type": "markdown",
   "id": "e3aa7fa2-ea98-4c8b-a87a-1325486dd3bb",
   "metadata": {},
   "source": [
    "# Capítulo 4 \n",
    "## Análisis Experimental"
   ]
  },
  {
   "cell_type": "markdown",
   "id": "99f22b66-df9f-4254-8137-c02311bcf5c8",
   "metadata": {},
   "source": [
    "## Referencias Cruzadas\n",
    "\n",
    "Para hacer referencia a tablas, agrega un identificador con el prefijo #tbl-:"
   ]
  },
  {
   "cell_type": "markdown",
   "id": "abc02ef1-c873-496a-b46d-3a5038ee2eaa",
   "metadata": {},
   "source": [
    "| A | B | C |\n",
    "|---|---|---|\n",
    "| 1 | 2 | 3 |\n",
    "\n",
    ": Tabla de ejemplo {#tbl-ejemplo}\n",
    "\n",
    "Ver @tbl-ejemplo.\n"
   ]
  },
  {
   "cell_type": "markdown",
   "id": "c99bf511-059d-4da1-8e41-0f4eaac6db68",
   "metadata": {},
   "source": [
    "También puedes generar tablas desde código y referenciarlas usando label::"
   ]
  },
  {
   "cell_type": "code",
   "execution_count": 1,
   "id": "49057f43-5d2b-45f3-ae53-cbea5e3fe2a5",
   "metadata": {},
   "outputs": [
    {
     "data": {
      "text/markdown": [
       "Objeto    Radio (km)      Masa (kg)\n",
       "--------  ------------  -----------\n",
       "Sol       696,000         1.989e+30\n",
       "Tierra    6,371           5.972e+24"
      ],
      "text/plain": [
       "<IPython.core.display.Markdown object>"
      ]
     },
     "execution_count": 1,
     "metadata": {},
     "output_type": "execute_result"
    }
   ],
   "source": [
    "#| label: tbl-planets\n",
    "#| tbl-cap: Astronomical object\n",
    "\n",
    "from tabulate import tabulate\n",
    "from IPython.display import Markdown\n",
    "\n",
    "table = [[\"Sol\", \"696,000\", 1.989e30],\n",
    "         [\"Tierra\", \"6,371\", 5.972e24]]\n",
    "\n",
    "Markdown(tabulate(table, headers=[\"Objeto\", \"Radio (km)\", \"Masa (kg)\"]))\n"
   ]
  },
  {
   "cell_type": "markdown",
   "id": "c29a2c8d-4986-40f2-b522-f62adac6f6ad",
   "metadata": {},
   "source": [
    "Puedes consultar la documentación completa sobre tablas en Quarto[^quarto-tablas].\n",
    "\n",
    "[^quarto-tablas]: https://quarto.org/docs/authoring/tables.html\n",
    "\n",
    "\n"
   ]
  },
  {
   "cell_type": "markdown",
   "id": "3710908f-cd91-4e4a-866d-05b5e9b607a2",
   "metadata": {},
   "source": [
    "# Capítulo 5\n",
    "## Conclusiones"
   ]
  },
  {
   "cell_type": "markdown",
   "id": "add99f21-9380-4c7a-ad51-da84db764579",
   "metadata": {},
   "source": [
    "En este capítulo tiene que darse un cierre de todo lo desarrollado en el proyecto, destacando los resultados más importantes a partir de la metodología descrita a lo largo del documento. Lo anterior, permite posicionar el proyecto con respecto a los trabajos mencionados en el estado del arte del capítulo.\n",
    "\n",
    "Es fundamental hacer hincapié en qué tanto abarcó el proyecto y las condiciones bajo las cuales los resultados obtenidos se presentan. Dicho de otro modo, los alcances del proyecto, que a su vez deben ir acorde al cumplimiento de los objetivos mencionados en los objetivos.\n",
    "\n",
    "Otro punto importante que desarrollar, es hacer mención de las potenciales áreas de mejora que llevarían a la obtención de resultados más prometedores o aquellos aspectos que por alguna razón no pudieron ser cubiertos a lo largo del desarrollo del proyecto, es decir, el trabajo a futuro."
   ]
  },
  {
   "cell_type": "markdown",
   "id": "235094a9-956b-4325-8e03-0e67326230c2",
   "metadata": {},
   "source": [
    "\\newpage"
   ]
  },
  {
   "cell_type": "markdown",
   "id": "2a34267c-d4ac-4af3-8b4d-3d621d5178bc",
   "metadata": {},
   "source": [
    "# Referencias\n",
    "\n",
    "::: {#refs}\n",
    ":::\n"
   ]
  },
  {
   "cell_type": "markdown",
   "id": "6cf7d356-cd5f-4e94-b3de-d524d2a97efb",
   "metadata": {},
   "source": [
    "\\newpage"
   ]
  },
  {
   "cell_type": "markdown",
   "id": "2599ca34-2bbc-4099-95c0-982414478943",
   "metadata": {},
   "source": [
    "# Apéndice A\n",
    "## Fichas técnicas"
   ]
  }
 ],
 "metadata": {
  "kernelspec": {
   "display_name": "Python 3 (ipykernel)",
   "language": "python",
   "name": "python3"
  },
  "language_info": {
   "codemirror_mode": {
    "name": "ipython",
    "version": 3
   },
   "file_extension": ".py",
   "mimetype": "text/x-python",
   "name": "python",
   "nbconvert_exporter": "python",
   "pygments_lexer": "ipython3",
   "version": "3.10.13"
  }
 },
 "nbformat": 4,
 "nbformat_minor": 5
}
